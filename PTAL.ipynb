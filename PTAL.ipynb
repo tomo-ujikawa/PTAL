{
 "cells": [
  {
   "cell_type": "markdown",
   "id": "58e28a9d-bb40-4456-836e-7ac4bcdf0225",
   "metadata": {},
   "source": [
    "#### Step 0: データの読み込み ##### "
   ]
  },
  {
   "cell_type": "code",
   "execution_count": 1,
   "id": "d4cebfd2-caea-4b74-8ef3-a69a0531b6a2",
   "metadata": {},
   "outputs": [],
   "source": [
    "import geopandas as gpd\n",
    "import pandas as pd\n",
    "\n",
    "#墨田区の100m四方のメッシュポリゴン(shp)の読み込み\n",
    "esh = gpd.read_file(\"data/Sumida_mesh.geojson\")\n",
    "\n",
    "#各メッシュの中心点と各SAP(service access points：徒歩640m圏内にあるバス停、徒歩960m圏内にある駅）を結んだshpの読み込み\n",
    "mesh_busstop = gpd.read_file(\"data/mesh_to_busstops.geojson\")\n",
    "mesh_station = gpd.read_file(\"data/mesh_to_stations.geojson\")\n",
    "\n",
    "#各バス停における各バスルートの運行頻度データ(csv)の読み込み\n",
    "busstop = pd.read_csv(\"data/BusStops.csv\")\n",
    "station = pd.read_csv(\"data/Stations.csv\")"
   ]
  },
  {
   "cell_type": "code",
   "execution_count": 2,
   "id": "d881f06a-3c78-4419-a1ef-6f6e6bd11352",
   "metadata": {},
   "outputs": [
    {
     "data": {
      "text/plain": [
       "Index(['OBJECTID', 'Name', 'OriginID', 'DestinationID', 'DestinationRank',\n",
       "       'Total_WalkTime', 'Total_Kilometers', 'Name_tentative',\n",
       "       'OriginID_tentative', 'Shape_Length', 'MeshID', 'BusStopID',\n",
       "       'geometry'],\n",
       "      dtype='object')"
      ]
     },
     "execution_count": 2,
     "metadata": {},
     "output_type": "execute_result"
    }
   ],
   "source": [
    "mesh_busstop.columns"
   ]
  },
  {
   "cell_type": "markdown",
   "id": "3efbddb3-f85c-4395-9961-05340256dd4e",
   "metadata": {},
   "source": [
    "#### Step 1: 各SAPへの歩行時間の計算 ##### "
   ]
  },
  {
   "cell_type": "code",
   "execution_count": 3,
   "id": "afc15941-7922-4681-883c-2076663ba4db",
   "metadata": {},
   "outputs": [],
   "source": [
    "#メッシュの中心点とSAPを結ぶデータには所要時間も入っている（'Total_Walk'）が、\n",
    "#5km/hの歩行速度で計算されたものなので、\n",
    "#距離データ（'Total_Kilo'）を使って、4.8km/hの歩行速度での所要時間に変換\n",
    "\n",
    "mesh_busstop['WalkTime'] = mesh_busstop['Total_Kilometers']/4.8*60\n",
    "mesh_station['WalkTime'] = mesh_station['Total_Kilometers']/4.8*60"
   ]
  },
  {
   "cell_type": "markdown",
   "id": "346756a6-9ab3-49f1-93d0-eaebdd02f55b",
   "metadata": {},
   "source": [
    "#### Step 2: 各SAPの予定待ち時間（SWT）の算出 ##### "
   ]
  },
  {
   "cell_type": "code",
   "execution_count": 4,
   "id": "d6a3d0f1-d19c-47d1-b5bb-16748459568a",
   "metadata": {},
   "outputs": [],
   "source": [
    "#SWT(scheduled waiting time) = 0.5 * (60/頻度)\n",
    "busstop['SWT'] = 0.5*(60/ busstop['PeakHourFq'])\n",
    "station['SWT'] = 0.5*(60/ station['PeakHourFq'])"
   ]
  },
  {
   "cell_type": "markdown",
   "id": "aa081016-b8e0-4588-8099-4c0842a0b94c",
   "metadata": {},
   "source": [
    "#### Step 3: 各SAPの平均待ち時間（AWT）の算出 ##### "
   ]
  },
  {
   "cell_type": "code",
   "execution_count": 5,
   "id": "85f529bd-9165-4beb-8109-86248b47815d",
   "metadata": {},
   "outputs": [],
   "source": [
    "#AWT(average waiting times)=SWT + 信頼係数\n",
    "#バスには信頼性係数2分、鉄道、地下鉄、路面電車には信頼性係数0.75分\n",
    "busstop['AWT'] = busstop['SWT']+2\n",
    "station['AWT'] = station['SWT']+0.75"
   ]
  },
  {
   "cell_type": "markdown",
   "id": "4b2b8e8e-7354-4595-a5ea-243fe6d17405",
   "metadata": {},
   "source": [
    "#### Step 4: 各SAPの各ルートの合計アクセス時間（TAT）の算出 ##### "
   ]
  },
  {
   "cell_type": "code",
   "execution_count": 10,
   "id": "ac1438be-1e4a-4cb6-b045-240c31b9b455",
   "metadata": {},
   "outputs": [],
   "source": [
    "joined_mesh_busstop = pd.merge(mesh_busstop, busstop, on='BusStopID', how='left', suffixes=('', '_from_busstop'))\n",
    "joined_mesh_station = pd.merge(mesh_station, station, on='StationID', how='left', suffixes=('', '_from_station'))\n",
    "#joinをする（many to many）：左にgdf、右にcsv、BusStopIDとStationIDをキーに\n",
    "#joinの前後の行の数を確認\n",
    "#やってる操作が合っているかどうかの再確認を"
   ]
  },
  {
   "cell_type": "code",
   "execution_count": null,
   "id": "2de7e00e-d1d7-40af-ab50-c6bdf67f4eff",
   "metadata": {},
   "outputs": [],
   "source": [
    "#TAT(total access time) = 移動時間（'WalkTime'）+AWT\n",
    "\n"
   ]
  },
  {
   "cell_type": "markdown",
   "id": "85decfcb-0d09-4356-868c-8c5992c0d2fd",
   "metadata": {},
   "source": [
    "#### Step5: 各SAPのEDFの算出 ##### "
   ]
  },
  {
   "cell_type": "code",
   "execution_count": 9,
   "id": "2a830273-a29e-4d73-9168-135da2b5b20f",
   "metadata": {},
   "outputs": [],
   "source": [
    "#EDF(equivalent doorstep frequency) = 0.5 * (60 / TAT)\n",
    "#EDFはTATを時間ではなく頻度の単位に変換したもの\n",
    "\n"
   ]
  },
  {
   "cell_type": "markdown",
   "id": "f3d8e993-141a-43d5-8409-47f837e3d467",
   "metadata": {},
   "source": [
    "#### Step6: アクセス指数（AI）の算出 ##### "
   ]
  },
  {
   "cell_type": "code",
   "execution_count": null,
   "id": "a85685c3-d60d-4c5d-95a6-35f6a6e15ce1",
   "metadata": {},
   "outputs": [],
   "source": [
    "#MeshIDごとにまとめる\n",
    "\n"
   ]
  },
  {
   "cell_type": "markdown",
   "id": "9bb8a159-0998-4edd-a7c9-4e0bc418e3a0",
   "metadata": {},
   "source": [
    "#### Step 7: PTALへの変換 ##### "
   ]
  },
  {
   "cell_type": "code",
   "execution_count": null,
   "id": "1d33e5ca-a553-4e7a-8b33-259deab1ad77",
   "metadata": {},
   "outputs": [],
   "source": []
  }
 ],
 "metadata": {
  "kernelspec": {
   "display_name": "Python 3 (ipykernel)",
   "language": "python",
   "name": "python3"
  },
  "language_info": {
   "codemirror_mode": {
    "name": "ipython",
    "version": 3
   },
   "file_extension": ".py",
   "mimetype": "text/x-python",
   "name": "python",
   "nbconvert_exporter": "python",
   "pygments_lexer": "ipython3",
   "version": "3.12.9"
  }
 },
 "nbformat": 4,
 "nbformat_minor": 5
}
