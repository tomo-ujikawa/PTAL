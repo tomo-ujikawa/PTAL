{
 "cells": [
  {
   "cell_type": "code",
   "execution_count": 1,
   "id": "c40b9d16-bff2-48e6-99aa-1e4e50c5d6f9",
   "metadata": {},
   "outputs": [
    {
     "data": {
      "text/plain": [
       "'/Users/Tomo/Desktop/PTAL'"
      ]
     },
     "execution_count": 1,
     "metadata": {},
     "output_type": "execute_result"
    }
   ],
   "source": [
    "import os\n",
    "os.getcwd()"
   ]
  },
  {
   "cell_type": "code",
   "execution_count": 2,
   "id": "0804971b-f8ff-446d-8821-76ab03070e62",
   "metadata": {},
   "outputs": [],
   "source": [
    "import partridge as ptg\n",
    "import pandas as pd\n",
    "from datetime import time\n",
    "path = 'data/gtfs.zip'"
   ]
  },
  {
   "cell_type": "code",
   "execution_count": 33,
   "id": "cf5c4cc7-ee78-4788-ba05-55dc67effd43",
   "metadata": {},
   "outputs": [
    {
     "name": "stdout",
     "output_type": "stream",
     "text": [
      "  service_id  monday  tuesday  wednesday  thursday  friday  saturday  sunday  \\\n",
      "0     01-100       0        0          0         0       0         0       1   \n",
      "1     01-160       0        0          0         0       0         1       0   \n",
      "2     01-170       1        1          1         1       1         0       0   \n",
      "3     06-100       0        0          0         0       0         0       1   \n",
      "4     06-160       0        0          0         0       0         1       0   \n",
      "\n",
      "   start_date  end_date  \n",
      "0    20250501  20280430  \n",
      "1    20250501  20280430  \n",
      "2    20250501  20280430  \n",
      "3    20250501  20280430  \n",
      "4    20250501  20280430  \n",
      "  service_id      date  exception_type\n",
      "0     09-172  20250502               1\n",
      "1     09-170  20250502               2\n",
      "2     01-105  20250503               1\n",
      "3     01-160  20250503               2\n",
      "4     06-100  20250503               1\n"
     ]
    }
   ],
   "source": [
    "import zipfile\n",
    "import pandas as pd\n",
    "\n",
    "with zipfile.ZipFile('data/gtfs.zip') as z:\n",
    "    calendar = pd.read_csv(z.open('calendar.txt'))\n",
    "    if 'calendar_dates.txt' in z.namelist():\n",
    "        calendar_dates = pd.read_csv(z.open('calendar_dates.txt'))\n",
    "    else:\n",
    "        calendar_dates = pd.DataFrame()\n",
    "\n",
    "print(calendar.head())\n",
    "print(calendar_dates.head())"
   ]
  },
  {
   "cell_type": "code",
   "execution_count": 34,
   "id": "261b60dd-3c1e-477c-9473-ed72b68f442a",
   "metadata": {},
   "outputs": [
    {
     "name": "stdout",
     "output_type": "stream",
     "text": [
      "2025-05-08 に運行するサービスID: ['01-170' '06-170' '09-170' '13-170' '21-170' '25-170' '29-170' '33-170'\n",
      " '37-170' '41-170' '45-170' '49-170' '53-170' '57-170' '61-170' '65-170'\n",
      " '69-170' '77-170' '81-170' '85-170']\n"
     ]
    }
   ],
   "source": [
    "from datetime import datetime\n",
    "\n",
    "target_date = '2025-05-08'  # 任意の平日\n",
    "\n",
    "# 年月日をintで表現（例：20240603）\n",
    "target_date_int = int(target_date.replace('-', ''))\n",
    "\n",
    "# その日が calendar.txt のどのサービスに該当するかチェック\n",
    "weekday = datetime.strptime(target_date, '%Y-%m-%d').strftime('%A').lower()\n",
    "\n",
    "valid_services = calendar[\n",
    "    (calendar['start_date'] <= target_date_int) &\n",
    "    (calendar['end_date'] >= target_date_int) &\n",
    "    (calendar[weekday] == 1)\n",
    "]['service_id'].unique()\n",
    "\n",
    "print(f\"{target_date} に運行するサービスID:\", valid_services)"
   ]
  },
  {
   "cell_type": "code",
   "execution_count": 35,
   "id": "5629d1fa-a182-4cd9-aaf0-e036dd274119",
   "metadata": {},
   "outputs": [],
   "source": [
    "path = 'data/gtfs.zip'\n",
    "view = {'trips.txt': {'service_id': valid_services.tolist()}}\n",
    "feed = ptg.load_feed(path, view)"
   ]
  },
  {
   "cell_type": "code",
   "execution_count": 3,
   "id": "59b14409-4f69-457c-be8e-8a5e27f165a3",
   "metadata": {},
   "outputs": [
    {
     "name": "stdout",
     "output_type": "stream",
     "text": [
      "Busiest date: 2025-05-23\n"
     ]
    }
   ],
   "source": [
    "# 1. 最もサービスが多い日を取得\n",
    "date, service_ids = ptg.read_busiest_date(path)\n",
    "print(f\"Busiest date: {date}\")"
   ]
  },
  {
   "cell_type": "code",
   "execution_count": 4,
   "id": "fa24fc03-74e1-4403-93ca-e342d33ef6ac",
   "metadata": {},
   "outputs": [],
   "source": [
    "# 2. 該当日のフィードを読み込む\n",
    "view = {'trips.txt': {'service_id': service_ids}}\n",
    "feed = ptg.load_feed(path, view)"
   ]
  },
  {
   "cell_type": "code",
   "execution_count": 60,
   "id": "6620a43f-c7db-49d1-a7c4-bb9d98f13998",
   "metadata": {},
   "outputs": [],
   "source": [
    "# 3. 該当サービスの trip_id を取得\n",
    "valid_trips = feed.trips['trip_id'].unique()"
   ]
  },
  {
   "cell_type": "code",
   "execution_count": 61,
   "id": "b80d1c17-aff6-49d9-8f20-22e7186fec1f",
   "metadata": {},
   "outputs": [],
   "source": [
    "# 4. 該当 trip に属する stop_times を抽出\n",
    "stop_times = feed.stop_times[feed.stop_times['trip_id'].isin(valid_trips)].copy()"
   ]
  },
  {
   "cell_type": "code",
   "execution_count": 62,
   "id": "5895821c-cfd8-4f9d-9b3a-42b75aaf07a1",
   "metadata": {},
   "outputs": [],
   "source": [
    "# 時刻の形式を変換（HH:MM:SS → 時刻オブジェクト）\n",
    "stop_times['departure_time_obj'] = pd.to_timedelta(stop_times['departure_time'])"
   ]
  },
  {
   "cell_type": "code",
   "execution_count": 63,
   "id": "cd7557ce-3297-42da-8747-48f9e3de5962",
   "metadata": {},
   "outputs": [
    {
     "data": {
      "text/html": [
       "<div>\n",
       "<style scoped>\n",
       "    .dataframe tbody tr th:only-of-type {\n",
       "        vertical-align: middle;\n",
       "    }\n",
       "\n",
       "    .dataframe tbody tr th {\n",
       "        vertical-align: top;\n",
       "    }\n",
       "\n",
       "    .dataframe thead th {\n",
       "        text-align: right;\n",
       "    }\n",
       "</style>\n",
       "<table border=\"1\" class=\"dataframe\">\n",
       "  <thead>\n",
       "    <tr style=\"text-align: right;\">\n",
       "      <th></th>\n",
       "      <th>trip_id</th>\n",
       "      <th>arrival_time</th>\n",
       "      <th>departure_time</th>\n",
       "      <th>stop_id</th>\n",
       "      <th>stop_sequence</th>\n",
       "      <th>stop_headsign</th>\n",
       "      <th>pickup_type</th>\n",
       "      <th>drop_off_type</th>\n",
       "      <th>shape_dist_traveled</th>\n",
       "      <th>timepoint</th>\n",
       "      <th>departure_time_obj</th>\n",
       "    </tr>\n",
       "  </thead>\n",
       "  <tbody>\n",
       "  </tbody>\n",
       "</table>\n",
       "</div>"
      ],
      "text/plain": [
       "Empty DataFrame\n",
       "Columns: [trip_id, arrival_time, departure_time, stop_id, stop_sequence, stop_headsign, pickup_type, drop_off_type, shape_dist_traveled, timepoint, departure_time_obj]\n",
       "Index: []"
      ]
     },
     "execution_count": 63,
     "metadata": {},
     "output_type": "execute_result"
    }
   ],
   "source": [
    "stop_times"
   ]
  },
  {
   "cell_type": "code",
   "execution_count": 52,
   "id": "270223dd-632b-4c33-8636-c43491f52e4f",
   "metadata": {},
   "outputs": [],
   "source": [
    "def hms_to_seconds(hms):\n",
    "    try:\n",
    "        h, m, s = map(int, str(hms).split(\":\"))\n",
    "        return h * 3600 + m * 60 + s\n",
    "    except:\n",
    "        return None  # 不正値・NaNへの対処"
   ]
  },
  {
   "cell_type": "code",
   "execution_count": 53,
   "id": "52668ec3-46ab-4b07-8999-5ee7bf58fb75",
   "metadata": {},
   "outputs": [],
   "source": [
    "stop_times['dep_seconds'] = stop_times['departure_time'].apply(hms_to_seconds)"
   ]
  },
  {
   "cell_type": "code",
   "execution_count": 54,
   "id": "1869f157-ccf4-4046-9f96-1914e85b9a5a",
   "metadata": {},
   "outputs": [],
   "source": [
    "# 8:15 = 29700秒、9:15 = 33300秒\n",
    "in_window = stop_times[\n",
    "    (stop_times['dep_seconds'] >= 29700) &\n",
    "    (stop_times['dep_seconds'] < 33300)\n",
    "]"
   ]
  },
  {
   "cell_type": "code",
   "execution_count": 40,
   "id": "957fcd9a-7a5c-4a48-b269-25e43efd5ff5",
   "metadata": {},
   "outputs": [],
   "source": [
    "# 5. 8:15〜9:15 の時間帯でフィルタ\n",
    "start_sec = 8 * 3600 + 15 * 60   # 8:15 = 29700秒\n",
    "end_sec = 9 * 3600 + 15 * 60     # 9:15 = 33300秒\n",
    "in_window = stop_times[\n",
    "    (stop_times['departure_time_obj'].dt.total_seconds() >= start_sec) &\n",
    "    (stop_times['departure_time_obj'].dt.total_seconds() < end_sec)\n",
    "]"
   ]
  },
  {
   "cell_type": "code",
   "execution_count": 58,
   "id": "4deb3bda-ff5c-4866-86dd-718a76ca8f8c",
   "metadata": {},
   "outputs": [],
   "source": [
    "target_date = '2024-06-03'  # 任意の平日（例：月曜）\n",
    "target_date_int = int(target_date.replace('-', ''))\n",
    "\n",
    "# calendar.txt を使って、平日に該当する service_id を取得\n",
    "weekday = datetime.strptime(target_date, '%Y-%m-%d').strftime('%A').lower()\n",
    "\n",
    "valid_services = calendar[\n",
    "    (calendar['start_date'] <= target_date_int) &\n",
    "    (calendar['end_date'] >= target_date_int) &\n",
    "    (calendar[weekday] == 1)\n",
    "]['service_id'].unique()\n",
    "\n",
    "# 再読み込み\n",
    "view = {'trips.txt': {'service_id': valid_services.tolist()}}\n",
    "feed = ptg.load_feed(path, view)"
   ]
  },
  {
   "cell_type": "code",
   "execution_count": 59,
   "id": "b847fdbb-46b1-45a3-adda-c53fd78b8262",
   "metadata": {},
   "outputs": [
    {
     "name": "stdout",
     "output_type": "stream",
     "text": [
      "count       0\n",
      "unique      0\n",
      "top       NaN\n",
      "freq      NaN\n",
      "Name: sec, dtype: object\n",
      "0\n"
     ]
    }
   ],
   "source": [
    "# \"HH:MM:SS\" → 秒数に変換する関数\n",
    "def hms_to_seconds(hms):\n",
    "    try:\n",
    "        h, m, s = map(int, hms.split(\":\"))\n",
    "        return h * 3600 + m * 60 + s\n",
    "    except:\n",
    "        return None  # 欠損や不正値がある場合\n",
    "\n",
    "# 変換適用\n",
    "stop_times['sec'] = stop_times['departure_time'].apply(hms_to_seconds)\n",
    "\n",
    "# 統計確認\n",
    "print(stop_times['sec'].describe())\n",
    "\n",
    "# 8:15〜9:15 に該当するデータ件数を確認\n",
    "print(stop_times[(stop_times['sec'] >= 29700) & (stop_times['sec'] < 33300)].shape[0])"
   ]
  },
  {
   "cell_type": "code",
   "execution_count": 30,
   "id": "0aa2799b-fb02-4fbe-9ea4-1402ea4e715a",
   "metadata": {},
   "outputs": [],
   "source": [
    "in_window = stop_times[\n",
    "    (stop_times['sec'] >= 29700) &\n",
    "    (stop_times['sec'] <= 33300)   # ← ここを < から <= に変更\n",
    "]"
   ]
  },
  {
   "cell_type": "code",
   "execution_count": 42,
   "id": "1565705d-1d41-4d22-9170-c52891e91a48",
   "metadata": {},
   "outputs": [
    {
     "name": "stdout",
     "output_type": "stream",
     "text": [
      "Empty DataFrame\n",
      "Columns: [departure_time, stop_id]\n",
      "Index: []\n",
      "件数: 0\n"
     ]
    }
   ],
   "source": [
    "# 例えば 8:00〜10:00\n",
    "start_sec = 8 * 3600\n",
    "end_sec = 10 * 3600\n",
    "\n",
    "filtered = stop_times[(stop_times['sec'] >= start_sec) & (stop_times['sec'] <= end_sec)]\n",
    "print(filtered[['departure_time', 'stop_id']].head(10))\n",
    "print(\"件数:\", filtered.shape[0])"
   ]
  },
  {
   "cell_type": "code",
   "execution_count": 43,
   "id": "34ae9948-7cfc-4f26-82cd-8aded63d7313",
   "metadata": {},
   "outputs": [
    {
     "name": "stdout",
     "output_type": "stream",
     "text": [
      "count    301282.000000\n",
      "mean          0.000049\n",
      "std           0.000016\n",
      "min           0.000018\n",
      "25%           0.000034\n",
      "50%           0.000049\n",
      "75%           0.000063\n",
      "max           0.000090\n",
      "Name: sec, dtype: float64\n",
      "0\n"
     ]
    }
   ],
   "source": [
    "# 変換後の時間の分布を見る\n",
    "stop_times['sec'] = stop_times['departure_time_obj'].dt.total_seconds()\n",
    "print(stop_times['sec'].describe())\n",
    "\n",
    "# 8:15〜9:15に当たる件数を見てみる\n",
    "print(stop_times[(stop_times['sec'] >= 29700) & (stop_times['sec'] < 33300)].shape[0])"
   ]
  },
  {
   "cell_type": "code",
   "execution_count": 20,
   "id": "70d24665-1e42-43eb-9e59-d022075fd2c2",
   "metadata": {},
   "outputs": [
    {
     "name": "stdout",
     "output_type": "stream",
     "text": [
      "count    301334.000000\n",
      "mean          0.000049\n",
      "std           0.000016\n",
      "min           0.000018\n",
      "25%           0.000034\n",
      "50%           0.000049\n",
      "75%           0.000063\n",
      "max           0.000090\n",
      "Name: sec, dtype: float64\n"
     ]
    }
   ],
   "source": [
    "# 変換後の時間の分布を見る\n",
    "stop_times['sec'] = stop_times['departure_time_obj'].dt.total_seconds()\n",
    "print(stop_times['sec'].describe())"
   ]
  },
  {
   "cell_type": "code",
   "execution_count": 44,
   "id": "c41f21cf-36e4-46d5-8077-cec4b4fdbd97",
   "metadata": {},
   "outputs": [],
   "source": [
    "# 6. 各 stop_id ごとの停車本数をカウント\n",
    "stop_counts = in_window['stop_id'].value_counts().reset_index()"
   ]
  },
  {
   "cell_type": "code",
   "execution_count": 45,
   "id": "22aa7c8c-8b05-4092-be53-bfc18464c1ed",
   "metadata": {},
   "outputs": [],
   "source": [
    "stop_counts.columns = ['stop_id', 'num_departures']"
   ]
  },
  {
   "cell_type": "code",
   "execution_count": 46,
   "id": "30389017-a200-42ca-9cc7-d41b4b8e209c",
   "metadata": {},
   "outputs": [],
   "source": [
    "# 7. 停留所名と結合\n",
    "stop_names = feed.stops[['stop_id', 'stop_name']]\n",
    "result = pd.merge(stop_counts, stop_names, on='stop_id', how='left')"
   ]
  },
  {
   "cell_type": "code",
   "execution_count": 47,
   "id": "eba73a9e-7f17-42c0-b30b-aa321a96296d",
   "metadata": {},
   "outputs": [
    {
     "data": {
      "text/html": [
       "<div>\n",
       "<style scoped>\n",
       "    .dataframe tbody tr th:only-of-type {\n",
       "        vertical-align: middle;\n",
       "    }\n",
       "\n",
       "    .dataframe tbody tr th {\n",
       "        vertical-align: top;\n",
       "    }\n",
       "\n",
       "    .dataframe thead th {\n",
       "        text-align: right;\n",
       "    }\n",
       "</style>\n",
       "<table border=\"1\" class=\"dataframe\">\n",
       "  <thead>\n",
       "    <tr style=\"text-align: right;\">\n",
       "      <th></th>\n",
       "      <th>stop_id</th>\n",
       "      <th>num_departures</th>\n",
       "      <th>stop_name</th>\n",
       "    </tr>\n",
       "  </thead>\n",
       "  <tbody>\n",
       "  </tbody>\n",
       "</table>\n",
       "</div>"
      ],
      "text/plain": [
       "Empty DataFrame\n",
       "Columns: [stop_id, num_departures, stop_name]\n",
       "Index: []"
      ]
     },
     "execution_count": 47,
     "metadata": {},
     "output_type": "execute_result"
    }
   ],
   "source": [
    "result"
   ]
  },
  {
   "cell_type": "code",
   "execution_count": null,
   "id": "1b122052-7ecb-43ef-b8fc-a0c7f81c1f16",
   "metadata": {},
   "outputs": [],
   "source": []
  },
  {
   "cell_type": "code",
   "execution_count": null,
   "id": "e3588597-1048-42e8-a967-d91d0bd33089",
   "metadata": {},
   "outputs": [],
   "source": []
  }
 ],
 "metadata": {
  "kernelspec": {
   "display_name": "Python 3 (ipykernel)",
   "language": "python",
   "name": "python3"
  },
  "language_info": {
   "codemirror_mode": {
    "name": "ipython",
    "version": 3
   },
   "file_extension": ".py",
   "mimetype": "text/x-python",
   "name": "python",
   "nbconvert_exporter": "python",
   "pygments_lexer": "ipython3",
   "version": "3.12.9"
  }
 },
 "nbformat": 4,
 "nbformat_minor": 5
}
